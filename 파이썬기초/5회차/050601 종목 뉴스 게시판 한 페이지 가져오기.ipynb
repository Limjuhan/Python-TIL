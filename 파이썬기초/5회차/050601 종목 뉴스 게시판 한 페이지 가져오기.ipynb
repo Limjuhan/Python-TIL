{
 "cells": [
  {
   "cell_type": "markdown",
   "metadata": {},
   "source": [
    "## 라이브러리 로드"
   ]
  },
  {
   "cell_type": "code",
   "execution_count": 1,
   "metadata": {
    "id": "SLA-Xh_Wk2Hg"
   },
   "outputs": [],
   "source": [
    "import pandas as pd"
   ]
  },
  {
   "cell_type": "markdown",
   "metadata": {},
   "source": [
    "## 데이터 수집 "
   ]
  },
  {
   "cell_type": "code",
   "execution_count": 2,
   "metadata": {
    "id": "i7jRLoTpk2Hh"
   },
   "outputs": [],
   "source": [
    "# 수집할 url을 가져옵니다.\n",
    "item_code = \"005930\"\n",
    "item_name = \"삼성전자\"\n",
    "\n",
    "page_no = 1\n",
    "url = f\"https://finance.naver.com/item/news_news.nhn?code={item_code}&page={page_no}&sm=title_entity_id.basic&clusterId=\""
   ]
  },
  {
   "cell_type": "code",
   "execution_count": 3,
   "metadata": {
    "id": "7hnd8L_Bk2Hh"
   },
   "outputs": [
    {
     "data": {
      "text/plain": [
       "6"
      ]
     },
     "execution_count": 3,
     "metadata": {},
     "output_type": "execute_result"
    }
   ],
   "source": [
    "# 뉴스 페이지를 읽어옵니다.\n",
    "table = pd.read_html(url)\n",
    "len(table)"
   ]
  },
  {
   "cell_type": "code",
   "execution_count": 4,
   "metadata": {
    "id": "w1lb227Sk2Hh"
   },
   "outputs": [
    {
     "data": {
      "text/plain": [
       "[                                                   제목  \\\n",
       " 0                            반도체 '슈퍼 호황'… 삼성전자 역대급 채용   \n",
       " 1   연관기사 목록  [단독]인력 태부족 \"삼성반도체 경력채용 세자릿수\"..기존 직원도 ...   \n",
       " 2           [단독]인력 태부족 \"삼성반도체 경력채용 세자릿수\"..기존 직원도 전...   \n",
       " 3                \"넷플릭스 돈주고 왜 봐\"… 삼성-LG, TV 무료 K콘텐츠 대결   \n",
       " 4   연관기사 목록  \"넷플릭스 왜 봐\"...삼성 vs LG 무료 K콘텐츠 전쟁  파이낸...   \n",
       " 5                    \"넷플릭스 왜 봐\"...삼성 vs LG 무료 K콘텐츠 전쟁   \n",
       " 6                      삼성 QLED TV 전 제품에 ‘AMD 프리싱크’ 탑재   \n",
       " 7                     삼성전자 '후광' 광교테크노밸리에 '광교 Q캠퍼스' 분양   \n",
       " 8                     美·EU 반도체 공장 '러브콜'에도…웃지 못하는 삼성전자   \n",
       " 9                       삼성폰, ‘험지’ 日서 7년만에 두자릿수 점유율 회복   \n",
       " 10                       \"삼성전자 매출 늘겠네\"…퀄컴 5G모뎀칩 수주할 듯   \n",
       " 11         경총 “삼성전자 개인정보 보호 위반 시 과징금 6,000억원···비합리...   \n",
       " 12  연관기사 목록  \"삼성전자, 경미하게 개인정보보호 위반해도 과징금 2.4조원 내야\"...   \n",
       " 13              \"삼성전자, 경미하게 개인정보보호 위반해도 과징금 2.4조원 내야\"   \n",
       " 14              \"삼성전자, 벌금만 5조원 낼수도\"…경총, 개인정보보호법 개정 비판   \n",
       " 15                             삼성전자, 네오 QLED 게임 기능 강화   \n",
       " 16  연관기사 목록  삼성TV, 게이머 위한 기능 강화했다는데...  매일경제  2021...   \n",
       " 17                          삼성TV, 게이머 위한 기능 강화했다는데...   \n",
       " 18              삼성 QLED TV 신제품 '게임' 기능 강화…AMD 기술 첫 적용   \n",
       " 19             [IT체험기]갤럭시 버즈 프로vs에어팟 프로…노캔은 비슷·통화는 삼성   \n",
       " \n",
       "                                                  정보제공  \\\n",
       " 0                                              파이낸셜뉴스   \n",
       " 1   연관기사 목록  [단독]인력 태부족 \"삼성반도체 경력채용 세자릿수\"..기존 직원도 ...   \n",
       " 2                                              파이낸셜뉴스   \n",
       " 3                                              파이낸셜뉴스   \n",
       " 4   연관기사 목록  \"넷플릭스 왜 봐\"...삼성 vs LG 무료 K콘텐츠 전쟁  파이낸...   \n",
       " 5                                              파이낸셜뉴스   \n",
       " 6                                              파이낸셜뉴스   \n",
       " 7                                                매일경제   \n",
       " 8                                                한국경제   \n",
       " 9                                                이데일리   \n",
       " 10                                               매일경제   \n",
       " 11                                               서울경제   \n",
       " 12  연관기사 목록  \"삼성전자, 경미하게 개인정보보호 위반해도 과징금 2.4조원 내야\"...   \n",
       " 13                                               이데일리   \n",
       " 14                                              머니투데이   \n",
       " 15                                               서울경제   \n",
       " 16  연관기사 목록  삼성TV, 게이머 위한 기능 강화했다는데...  매일경제  2021...   \n",
       " 17                                               매일경제   \n",
       " 18                                              아시아경제   \n",
       " 19                                              아시아경제   \n",
       " \n",
       "                                                    날짜  \n",
       " 0                                    2021.02.14 18:33  \n",
       " 1   연관기사 목록  [단독]인력 태부족 \"삼성반도체 경력채용 세자릿수\"..기존 직원도 ...  \n",
       " 2                                    2021.02.14 13:16  \n",
       " 3                                    2021.02.14 18:04  \n",
       " 4   연관기사 목록  \"넷플릭스 왜 봐\"...삼성 vs LG 무료 K콘텐츠 전쟁  파이낸...  \n",
       " 5                                    2021.02.14 15:28  \n",
       " 6                                    2021.02.14 18:03  \n",
       " 7                                    2021.02.14 17:47  \n",
       " 8                                    2021.02.14 17:35  \n",
       " 9                                    2021.02.14 16:47  \n",
       " 10                                   2021.02.14 16:25  \n",
       " 11                                   2021.02.14 15:52  \n",
       " 12  연관기사 목록  \"삼성전자, 경미하게 개인정보보호 위반해도 과징금 2.4조원 내야\"...  \n",
       " 13                                   2021.02.14 12:01  \n",
       " 14                                   2021.02.14 12:00  \n",
       " 15                                   2021.02.14 13:30  \n",
       " 16  연관기사 목록  삼성TV, 게이머 위한 기능 강화했다는데...  매일경제  2021...  \n",
       " 17                                   2021.02.14 11:31  \n",
       " 18                                   2021.02.14 11:00  \n",
       " 19                                   2021.02.14 13:18  ,\n",
       "                                            0       1                 2\n",
       " 0  [단독]인력 태부족 \"삼성반도체 경력채용 세자릿수\"..기존 직원도 전...  파이낸셜뉴스  2021.02.14 13:16,\n",
       "                                   0       1                 2\n",
       " 0  \"넷플릭스 왜 봐\"...삼성 vs LG 무료 K콘텐츠 전쟁  파이낸셜뉴스  2021.02.14 15:28,\n",
       "                                        0      1                 2\n",
       " 0  \"삼성전자, 경미하게 개인정보보호 위반해도 과징금 2.4조원 내야\"   이데일리  2021.02.14 12:01\n",
       " 1  \"삼성전자, 벌금만 5조원 낼수도\"…경총, 개인정보보호법 개정 비판  머니투데이  2021.02.14 12:00,\n",
       "                                        0      1                 2\n",
       " 0              삼성TV, 게이머 위한 기능 강화했다는데...   매일경제  2021.02.14 11:31\n",
       " 1  삼성 QLED TV 신제품 '게임' 기능 강화…AMD 기술 첫 적용  아시아경제  2021.02.14 11:00,\n",
       "    0   1   2   3   4   5   6   7   8   9   10  11\n",
       " 0   1   2   3   4   5   6   7   8   9  10  다음  맨뒤]"
      ]
     },
     "execution_count": 4,
     "metadata": {},
     "output_type": "execute_result"
    }
   ],
   "source": [
    "# table 에 들어있는 값을 봅니다.\n",
    "table"
   ]
  },
  {
   "cell_type": "code",
   "execution_count": 5,
   "metadata": {
    "id": "koGKOcyHk2Hh",
    "scrolled": false
   },
   "outputs": [
    {
     "data": {
      "text/html": [
       "<div>\n",
       "<style scoped>\n",
       "    .dataframe tbody tr th:only-of-type {\n",
       "        vertical-align: middle;\n",
       "    }\n",
       "\n",
       "    .dataframe tbody tr th {\n",
       "        vertical-align: top;\n",
       "    }\n",
       "\n",
       "    .dataframe thead th {\n",
       "        text-align: right;\n",
       "    }\n",
       "</style>\n",
       "<table border=\"1\" class=\"dataframe\">\n",
       "  <thead>\n",
       "    <tr style=\"text-align: right;\">\n",
       "      <th></th>\n",
       "      <th>제목</th>\n",
       "      <th>정보제공</th>\n",
       "      <th>날짜</th>\n",
       "    </tr>\n",
       "  </thead>\n",
       "  <tbody>\n",
       "    <tr>\n",
       "      <th>0</th>\n",
       "      <td>반도체 '슈퍼 호황'… 삼성전자 역대급 채용</td>\n",
       "      <td>파이낸셜뉴스</td>\n",
       "      <td>2021.02.14 18:33</td>\n",
       "    </tr>\n",
       "    <tr>\n",
       "      <th>1</th>\n",
       "      <td>연관기사 목록  [단독]인력 태부족 \"삼성반도체 경력채용 세자릿수\"..기존 직원도 ...</td>\n",
       "      <td>연관기사 목록  [단독]인력 태부족 \"삼성반도체 경력채용 세자릿수\"..기존 직원도 ...</td>\n",
       "      <td>연관기사 목록  [단독]인력 태부족 \"삼성반도체 경력채용 세자릿수\"..기존 직원도 ...</td>\n",
       "    </tr>\n",
       "    <tr>\n",
       "      <th>2</th>\n",
       "      <td>[단독]인력 태부족 \"삼성반도체 경력채용 세자릿수\"..기존 직원도 전...</td>\n",
       "      <td>파이낸셜뉴스</td>\n",
       "      <td>2021.02.14 13:16</td>\n",
       "    </tr>\n",
       "    <tr>\n",
       "      <th>3</th>\n",
       "      <td>\"넷플릭스 돈주고 왜 봐\"… 삼성-LG, TV 무료 K콘텐츠 대결</td>\n",
       "      <td>파이낸셜뉴스</td>\n",
       "      <td>2021.02.14 18:04</td>\n",
       "    </tr>\n",
       "    <tr>\n",
       "      <th>4</th>\n",
       "      <td>연관기사 목록  \"넷플릭스 왜 봐\"...삼성 vs LG 무료 K콘텐츠 전쟁  파이낸...</td>\n",
       "      <td>연관기사 목록  \"넷플릭스 왜 봐\"...삼성 vs LG 무료 K콘텐츠 전쟁  파이낸...</td>\n",
       "      <td>연관기사 목록  \"넷플릭스 왜 봐\"...삼성 vs LG 무료 K콘텐츠 전쟁  파이낸...</td>\n",
       "    </tr>\n",
       "    <tr>\n",
       "      <th>5</th>\n",
       "      <td>\"넷플릭스 왜 봐\"...삼성 vs LG 무료 K콘텐츠 전쟁</td>\n",
       "      <td>파이낸셜뉴스</td>\n",
       "      <td>2021.02.14 15:28</td>\n",
       "    </tr>\n",
       "    <tr>\n",
       "      <th>6</th>\n",
       "      <td>삼성 QLED TV 전 제품에 ‘AMD 프리싱크’ 탑재</td>\n",
       "      <td>파이낸셜뉴스</td>\n",
       "      <td>2021.02.14 18:03</td>\n",
       "    </tr>\n",
       "    <tr>\n",
       "      <th>7</th>\n",
       "      <td>삼성전자 '후광' 광교테크노밸리에 '광교 Q캠퍼스' 분양</td>\n",
       "      <td>매일경제</td>\n",
       "      <td>2021.02.14 17:47</td>\n",
       "    </tr>\n",
       "    <tr>\n",
       "      <th>8</th>\n",
       "      <td>美·EU 반도체 공장 '러브콜'에도…웃지 못하는 삼성전자</td>\n",
       "      <td>한국경제</td>\n",
       "      <td>2021.02.14 17:35</td>\n",
       "    </tr>\n",
       "    <tr>\n",
       "      <th>9</th>\n",
       "      <td>삼성폰, ‘험지’ 日서 7년만에 두자릿수 점유율 회복</td>\n",
       "      <td>이데일리</td>\n",
       "      <td>2021.02.14 16:47</td>\n",
       "    </tr>\n",
       "    <tr>\n",
       "      <th>10</th>\n",
       "      <td>\"삼성전자 매출 늘겠네\"…퀄컴 5G모뎀칩 수주할 듯</td>\n",
       "      <td>매일경제</td>\n",
       "      <td>2021.02.14 16:25</td>\n",
       "    </tr>\n",
       "    <tr>\n",
       "      <th>11</th>\n",
       "      <td>경총 “삼성전자 개인정보 보호 위반 시 과징금 6,000억원···비합리...</td>\n",
       "      <td>서울경제</td>\n",
       "      <td>2021.02.14 15:52</td>\n",
       "    </tr>\n",
       "    <tr>\n",
       "      <th>12</th>\n",
       "      <td>연관기사 목록  \"삼성전자, 경미하게 개인정보보호 위반해도 과징금 2.4조원 내야\"...</td>\n",
       "      <td>연관기사 목록  \"삼성전자, 경미하게 개인정보보호 위반해도 과징금 2.4조원 내야\"...</td>\n",
       "      <td>연관기사 목록  \"삼성전자, 경미하게 개인정보보호 위반해도 과징금 2.4조원 내야\"...</td>\n",
       "    </tr>\n",
       "    <tr>\n",
       "      <th>13</th>\n",
       "      <td>\"삼성전자, 경미하게 개인정보보호 위반해도 과징금 2.4조원 내야\"</td>\n",
       "      <td>이데일리</td>\n",
       "      <td>2021.02.14 12:01</td>\n",
       "    </tr>\n",
       "    <tr>\n",
       "      <th>14</th>\n",
       "      <td>\"삼성전자, 벌금만 5조원 낼수도\"…경총, 개인정보보호법 개정 비판</td>\n",
       "      <td>머니투데이</td>\n",
       "      <td>2021.02.14 12:00</td>\n",
       "    </tr>\n",
       "    <tr>\n",
       "      <th>15</th>\n",
       "      <td>삼성전자, 네오 QLED 게임 기능 강화</td>\n",
       "      <td>서울경제</td>\n",
       "      <td>2021.02.14 13:30</td>\n",
       "    </tr>\n",
       "    <tr>\n",
       "      <th>16</th>\n",
       "      <td>연관기사 목록  삼성TV, 게이머 위한 기능 강화했다는데...  매일경제  2021...</td>\n",
       "      <td>연관기사 목록  삼성TV, 게이머 위한 기능 강화했다는데...  매일경제  2021...</td>\n",
       "      <td>연관기사 목록  삼성TV, 게이머 위한 기능 강화했다는데...  매일경제  2021...</td>\n",
       "    </tr>\n",
       "    <tr>\n",
       "      <th>17</th>\n",
       "      <td>삼성TV, 게이머 위한 기능 강화했다는데...</td>\n",
       "      <td>매일경제</td>\n",
       "      <td>2021.02.14 11:31</td>\n",
       "    </tr>\n",
       "    <tr>\n",
       "      <th>18</th>\n",
       "      <td>삼성 QLED TV 신제품 '게임' 기능 강화…AMD 기술 첫 적용</td>\n",
       "      <td>아시아경제</td>\n",
       "      <td>2021.02.14 11:00</td>\n",
       "    </tr>\n",
       "    <tr>\n",
       "      <th>19</th>\n",
       "      <td>[IT체험기]갤럭시 버즈 프로vs에어팟 프로…노캔은 비슷·통화는 삼성</td>\n",
       "      <td>아시아경제</td>\n",
       "      <td>2021.02.14 13:18</td>\n",
       "    </tr>\n",
       "  </tbody>\n",
       "</table>\n",
       "</div>"
      ],
      "text/plain": [
       "                                                   제목  \\\n",
       "0                            반도체 '슈퍼 호황'… 삼성전자 역대급 채용   \n",
       "1   연관기사 목록  [단독]인력 태부족 \"삼성반도체 경력채용 세자릿수\"..기존 직원도 ...   \n",
       "2           [단독]인력 태부족 \"삼성반도체 경력채용 세자릿수\"..기존 직원도 전...   \n",
       "3                \"넷플릭스 돈주고 왜 봐\"… 삼성-LG, TV 무료 K콘텐츠 대결   \n",
       "4   연관기사 목록  \"넷플릭스 왜 봐\"...삼성 vs LG 무료 K콘텐츠 전쟁  파이낸...   \n",
       "5                    \"넷플릭스 왜 봐\"...삼성 vs LG 무료 K콘텐츠 전쟁   \n",
       "6                      삼성 QLED TV 전 제품에 ‘AMD 프리싱크’ 탑재   \n",
       "7                     삼성전자 '후광' 광교테크노밸리에 '광교 Q캠퍼스' 분양   \n",
       "8                     美·EU 반도체 공장 '러브콜'에도…웃지 못하는 삼성전자   \n",
       "9                       삼성폰, ‘험지’ 日서 7년만에 두자릿수 점유율 회복   \n",
       "10                       \"삼성전자 매출 늘겠네\"…퀄컴 5G모뎀칩 수주할 듯   \n",
       "11         경총 “삼성전자 개인정보 보호 위반 시 과징금 6,000억원···비합리...   \n",
       "12  연관기사 목록  \"삼성전자, 경미하게 개인정보보호 위반해도 과징금 2.4조원 내야\"...   \n",
       "13              \"삼성전자, 경미하게 개인정보보호 위반해도 과징금 2.4조원 내야\"   \n",
       "14              \"삼성전자, 벌금만 5조원 낼수도\"…경총, 개인정보보호법 개정 비판   \n",
       "15                             삼성전자, 네오 QLED 게임 기능 강화   \n",
       "16  연관기사 목록  삼성TV, 게이머 위한 기능 강화했다는데...  매일경제  2021...   \n",
       "17                          삼성TV, 게이머 위한 기능 강화했다는데...   \n",
       "18              삼성 QLED TV 신제품 '게임' 기능 강화…AMD 기술 첫 적용   \n",
       "19             [IT체험기]갤럭시 버즈 프로vs에어팟 프로…노캔은 비슷·통화는 삼성   \n",
       "\n",
       "                                                 정보제공  \\\n",
       "0                                              파이낸셜뉴스   \n",
       "1   연관기사 목록  [단독]인력 태부족 \"삼성반도체 경력채용 세자릿수\"..기존 직원도 ...   \n",
       "2                                              파이낸셜뉴스   \n",
       "3                                              파이낸셜뉴스   \n",
       "4   연관기사 목록  \"넷플릭스 왜 봐\"...삼성 vs LG 무료 K콘텐츠 전쟁  파이낸...   \n",
       "5                                              파이낸셜뉴스   \n",
       "6                                              파이낸셜뉴스   \n",
       "7                                                매일경제   \n",
       "8                                                한국경제   \n",
       "9                                                이데일리   \n",
       "10                                               매일경제   \n",
       "11                                               서울경제   \n",
       "12  연관기사 목록  \"삼성전자, 경미하게 개인정보보호 위반해도 과징금 2.4조원 내야\"...   \n",
       "13                                               이데일리   \n",
       "14                                              머니투데이   \n",
       "15                                               서울경제   \n",
       "16  연관기사 목록  삼성TV, 게이머 위한 기능 강화했다는데...  매일경제  2021...   \n",
       "17                                               매일경제   \n",
       "18                                              아시아경제   \n",
       "19                                              아시아경제   \n",
       "\n",
       "                                                   날짜  \n",
       "0                                    2021.02.14 18:33  \n",
       "1   연관기사 목록  [단독]인력 태부족 \"삼성반도체 경력채용 세자릿수\"..기존 직원도 ...  \n",
       "2                                    2021.02.14 13:16  \n",
       "3                                    2021.02.14 18:04  \n",
       "4   연관기사 목록  \"넷플릭스 왜 봐\"...삼성 vs LG 무료 K콘텐츠 전쟁  파이낸...  \n",
       "5                                    2021.02.14 15:28  \n",
       "6                                    2021.02.14 18:03  \n",
       "7                                    2021.02.14 17:47  \n",
       "8                                    2021.02.14 17:35  \n",
       "9                                    2021.02.14 16:47  \n",
       "10                                   2021.02.14 16:25  \n",
       "11                                   2021.02.14 15:52  \n",
       "12  연관기사 목록  \"삼성전자, 경미하게 개인정보보호 위반해도 과징금 2.4조원 내야\"...  \n",
       "13                                   2021.02.14 12:01  \n",
       "14                                   2021.02.14 12:00  \n",
       "15                                   2021.02.14 13:30  \n",
       "16  연관기사 목록  삼성TV, 게이머 위한 기능 강화했다는데...  매일경제  2021...  \n",
       "17                                   2021.02.14 11:31  \n",
       "18                                   2021.02.14 11:00  \n",
       "19                                   2021.02.14 13:18  "
      ]
     },
     "execution_count": 5,
     "metadata": {},
     "output_type": "execute_result"
    }
   ],
   "source": [
    "# 뉴스가 들어있는 인덱스를 찾습니다.\n",
    "news = table[0]\n",
    "news"
   ]
  },
  {
   "cell_type": "markdown",
   "metadata": {},
   "source": [
    "## 링크 URL 수집하기"
   ]
  },
  {
   "cell_type": "code",
   "execution_count": 44,
   "metadata": {
    "id": "UezTBLsTk2Hh"
   },
   "outputs": [],
   "source": [
    "import requests\n",
    "from bs4 import BeautifulSoup as bs"
   ]
  },
  {
   "cell_type": "code",
   "execution_count": 45,
   "metadata": {
    "id": "vGB8_V6zk2Hh"
   },
   "outputs": [],
   "source": [
    "response = requests.get(url)"
   ]
  },
  {
   "cell_type": "code",
   "execution_count": 46,
   "metadata": {},
   "outputs": [],
   "source": [
    "html = bs(response.text, \"lxml\")"
   ]
  },
  {
   "cell_type": "code",
   "execution_count": 47,
   "metadata": {},
   "outputs": [],
   "source": [
    "tables = html.select(\"table\")"
   ]
  },
  {
   "cell_type": "code",
   "execution_count": 48,
   "metadata": {},
   "outputs": [],
   "source": [
    "tit = html.select(\"a.tit\")"
   ]
  },
  {
   "cell_type": "code",
   "execution_count": 49,
   "metadata": {},
   "outputs": [
    {
     "name": "stdout",
     "output_type": "stream",
     "text": [
      "/item/news_read.nhn?article_id=0004583903&office_id=014&code=005930&page=1&sm=title_entity_id.basic\n",
      "/item/news_read.nhn?article_id=0004583730&office_id=014&code=005930&page=1&sm=title_entity_id.basic\n",
      "/item/news_read.nhn?article_id=0004583862&office_id=014&code=005930&page=1&sm=title_entity_id.basic\n",
      "/item/news_read.nhn?article_id=0004583777&office_id=014&code=005930&page=1&sm=title_entity_id.basic\n",
      "/item/news_read.nhn?article_id=0004583859&office_id=014&code=005930&page=1&sm=title_entity_id.basic\n",
      "/item/news_read.nhn?article_id=0003870709&office_id=011&code=005930&page=1&sm=title_entity_id.basic\n",
      "/item/news_read.nhn?article_id=0004748404&office_id=009&code=005930&page=1&sm=title_entity_id.basic\n",
      "/item/news_read.nhn?article_id=0004846962&office_id=277&code=005930&page=1&sm=title_entity_id.basic\n",
      "/item/news_read.nhn?article_id=0004748575&office_id=009&code=005930&page=1&sm=title_entity_id.basic\n",
      "/item/news_read.nhn?article_id=0004498761&office_id=015&code=005930&page=1&sm=title_entity_id.basic\n",
      "/item/news_read.nhn?article_id=0004852315&office_id=018&code=005930&page=1&sm=title_entity_id.basic\n",
      "/item/news_read.nhn?article_id=0004748478&office_id=009&code=005930&page=1&sm=title_entity_id.basic\n",
      "/item/news_read.nhn?article_id=0003870745&office_id=011&code=005930&page=1&sm=title_entity_id.basic\n",
      "/item/news_read.nhn?article_id=0004852125&office_id=018&code=005930&page=1&sm=title_entity_id.basic\n",
      "/item/news_read.nhn?article_id=0004542895&office_id=008&code=005930&page=1&sm=title_entity_id.basic\n",
      "/item/news_read.nhn?article_id=0004847040&office_id=277&code=005930&page=1&sm=title_entity_id.basic\n",
      "/item/news_read.nhn?article_id=0001793315&office_id=016&code=005930&page=1&sm=title_entity_id.basic\n"
     ]
    }
   ],
   "source": [
    "href_list = []\n",
    "for atit in tit:\n",
    "    href_list.append(atit[\"href\"])\n",
    "    print(atit[\"href\"])"
   ]
  },
  {
   "cell_type": "code",
   "execution_count": 50,
   "metadata": {},
   "outputs": [],
   "source": [
    "df[\"href\"] = href_list"
   ]
  },
  {
   "cell_type": "code",
   "execution_count": 51,
   "metadata": {},
   "outputs": [
    {
     "data": {
      "text/plain": [
       "제목                       \"넷플릭스 왜 봐\"...삼성 vs LG 무료 K콘텐츠 전쟁\n",
       "정보제공                                               파이낸셜뉴스\n",
       "날짜                                       2021.02.14 15:28\n",
       "href    /item/news_read.nhn?article_id=0004583777&offi...\n",
       "Name: 5, dtype: object"
      ]
     },
     "execution_count": 51,
     "metadata": {},
     "output_type": "execute_result"
    }
   ],
   "source": [
    "df.loc[5]"
   ]
  },
  {
   "cell_type": "code",
   "execution_count": 52,
   "metadata": {},
   "outputs": [
    {
     "data": {
      "text/plain": [
       "'/item/news_read.nhn?article_id=0004583777&office_id=014&code=005930&page=1&sm=title_entity_id.basic'"
      ]
     },
     "execution_count": 52,
     "metadata": {},
     "output_type": "execute_result"
    }
   ],
   "source": [
    "df.loc[5][\"href\"]"
   ]
  },
  {
   "cell_type": "code",
   "execution_count": 53,
   "metadata": {},
   "outputs": [],
   "source": [
    "def get_href_list(url):\n",
    "    response = requests.get(url)\n",
    "    html = bs(response.text, \"lxml\")\n",
    "    tit = html.select(\"a.tit\")\n",
    "    href_list = []\n",
    "    for atit in tit:\n",
    "        href_list.append(atit[\"href\"])\n",
    "    return href_list"
   ]
  },
  {
   "cell_type": "markdown",
   "metadata": {},
   "source": [
    "## 특정 페이지를 수집하는 함수 만들기"
   ]
  },
  {
   "cell_type": "code",
   "execution_count": 54,
   "metadata": {
    "id": "cIgtJ2v9k2Hh"
   },
   "outputs": [],
   "source": [
    "# 한 페이지를 가져오는 함수를 만듭니다.\n",
    "def get_one_page_news(table):\n",
    "    temp_list = []\n",
    "    for news in table:\n",
    "        df = pd.DataFrame(news, columns=[\"제목\", \"정보제공\", \"날짜\"])\n",
    "        temp_list.append(df)\n",
    "    \n",
    "    df = pd.concat(temp_list)\n",
    "    df = df.dropna()\n",
    "    df = df[~df[\"제목\"].str.contains(\"연관기사\")]\n",
    "    return df"
   ]
  },
  {
   "cell_type": "code",
   "execution_count": 55,
   "metadata": {
    "id": "bBtzjynVk2Hh"
   },
   "outputs": [
    {
     "data": {
      "text/html": [
       "<div>\n",
       "<style scoped>\n",
       "    .dataframe tbody tr th:only-of-type {\n",
       "        vertical-align: middle;\n",
       "    }\n",
       "\n",
       "    .dataframe tbody tr th {\n",
       "        vertical-align: top;\n",
       "    }\n",
       "\n",
       "    .dataframe thead th {\n",
       "        text-align: right;\n",
       "    }\n",
       "</style>\n",
       "<table border=\"1\" class=\"dataframe\">\n",
       "  <thead>\n",
       "    <tr style=\"text-align: right;\">\n",
       "      <th></th>\n",
       "      <th>제목</th>\n",
       "      <th>정보제공</th>\n",
       "      <th>날짜</th>\n",
       "      <th>href</th>\n",
       "    </tr>\n",
       "  </thead>\n",
       "  <tbody>\n",
       "    <tr>\n",
       "      <th>0</th>\n",
       "      <td>반도체 '슈퍼 호황'… 삼성전자 역대급 채용</td>\n",
       "      <td>파이낸셜뉴스</td>\n",
       "      <td>2021.02.14 18:33</td>\n",
       "      <td>/item/news_read.nhn?article_id=0004583903&amp;offi...</td>\n",
       "    </tr>\n",
       "    <tr>\n",
       "      <th>2</th>\n",
       "      <td>[단독]인력 태부족 \"삼성반도체 경력채용 세자릿수\"..기존 직원도 전...</td>\n",
       "      <td>파이낸셜뉴스</td>\n",
       "      <td>2021.02.14 13:16</td>\n",
       "      <td>/item/news_read.nhn?article_id=0004583730&amp;offi...</td>\n",
       "    </tr>\n",
       "    <tr>\n",
       "      <th>3</th>\n",
       "      <td>\"넷플릭스 돈주고 왜 봐\"… 삼성-LG, TV 무료 K콘텐츠 대결</td>\n",
       "      <td>파이낸셜뉴스</td>\n",
       "      <td>2021.02.14 18:04</td>\n",
       "      <td>/item/news_read.nhn?article_id=0004583862&amp;offi...</td>\n",
       "    </tr>\n",
       "    <tr>\n",
       "      <th>5</th>\n",
       "      <td>\"넷플릭스 왜 봐\"...삼성 vs LG 무료 K콘텐츠 전쟁</td>\n",
       "      <td>파이낸셜뉴스</td>\n",
       "      <td>2021.02.14 15:28</td>\n",
       "      <td>/item/news_read.nhn?article_id=0004583777&amp;offi...</td>\n",
       "    </tr>\n",
       "    <tr>\n",
       "      <th>6</th>\n",
       "      <td>삼성 QLED TV 전 제품에 ‘AMD 프리싱크’ 탑재</td>\n",
       "      <td>파이낸셜뉴스</td>\n",
       "      <td>2021.02.14 18:03</td>\n",
       "      <td>/item/news_read.nhn?article_id=0004583859&amp;offi...</td>\n",
       "    </tr>\n",
       "    <tr>\n",
       "      <th>8</th>\n",
       "      <td>삼성전자, 네오 QLED 게임 기능 강화</td>\n",
       "      <td>서울경제</td>\n",
       "      <td>2021.02.14 13:30</td>\n",
       "      <td>/item/news_read.nhn?article_id=0003870709&amp;offi...</td>\n",
       "    </tr>\n",
       "    <tr>\n",
       "      <th>9</th>\n",
       "      <td>삼성TV, 게이머 위한 기능 강화했다는데...</td>\n",
       "      <td>매일경제</td>\n",
       "      <td>2021.02.14 11:31</td>\n",
       "      <td>/item/news_read.nhn?article_id=0004748404&amp;offi...</td>\n",
       "    </tr>\n",
       "    <tr>\n",
       "      <th>10</th>\n",
       "      <td>삼성 QLED TV 신제품 '게임' 기능 강화…AMD 기술 첫 적용</td>\n",
       "      <td>아시아경제</td>\n",
       "      <td>2021.02.14 11:00</td>\n",
       "      <td>/item/news_read.nhn?article_id=0004846962&amp;offi...</td>\n",
       "    </tr>\n",
       "    <tr>\n",
       "      <th>11</th>\n",
       "      <td>삼성전자 '후광' 광교테크노밸리에 '광교 Q캠퍼스' 분양</td>\n",
       "      <td>매일경제</td>\n",
       "      <td>2021.02.14 17:47</td>\n",
       "      <td>/item/news_read.nhn?article_id=0004748575&amp;offi...</td>\n",
       "    </tr>\n",
       "    <tr>\n",
       "      <th>12</th>\n",
       "      <td>美·EU 반도체 공장 '러브콜'에도…웃지 못하는 삼성전자</td>\n",
       "      <td>한국경제</td>\n",
       "      <td>2021.02.14 17:35</td>\n",
       "      <td>/item/news_read.nhn?article_id=0004498761&amp;offi...</td>\n",
       "    </tr>\n",
       "    <tr>\n",
       "      <th>13</th>\n",
       "      <td>삼성폰, ‘험지’ 日서 7년만에 두자릿수 점유율 회복</td>\n",
       "      <td>이데일리</td>\n",
       "      <td>2021.02.14 16:47</td>\n",
       "      <td>/item/news_read.nhn?article_id=0004852315&amp;offi...</td>\n",
       "    </tr>\n",
       "    <tr>\n",
       "      <th>14</th>\n",
       "      <td>\"삼성전자 매출 늘겠네\"…퀄컴 5G모뎀칩 수주할 듯</td>\n",
       "      <td>매일경제</td>\n",
       "      <td>2021.02.14 16:25</td>\n",
       "      <td>/item/news_read.nhn?article_id=0004748478&amp;offi...</td>\n",
       "    </tr>\n",
       "    <tr>\n",
       "      <th>15</th>\n",
       "      <td>경총 “삼성전자 개인정보 보호 위반 시 과징금 6,000억원···비합리...</td>\n",
       "      <td>서울경제</td>\n",
       "      <td>2021.02.14 15:52</td>\n",
       "      <td>/item/news_read.nhn?article_id=0003870745&amp;offi...</td>\n",
       "    </tr>\n",
       "    <tr>\n",
       "      <th>17</th>\n",
       "      <td>\"삼성전자, 경미하게 개인정보보호 위반해도 과징금 2.4조원 내야\"</td>\n",
       "      <td>이데일리</td>\n",
       "      <td>2021.02.14 12:01</td>\n",
       "      <td>/item/news_read.nhn?article_id=0004852125&amp;offi...</td>\n",
       "    </tr>\n",
       "    <tr>\n",
       "      <th>18</th>\n",
       "      <td>\"삼성전자, 벌금만 5조원 낼수도\"…경총, 개인정보보호법 개정 비판</td>\n",
       "      <td>머니투데이</td>\n",
       "      <td>2021.02.14 12:00</td>\n",
       "      <td>/item/news_read.nhn?article_id=0004542895&amp;offi...</td>\n",
       "    </tr>\n",
       "    <tr>\n",
       "      <th>19</th>\n",
       "      <td>[IT체험기]갤럭시 버즈 프로vs에어팟 프로…노캔은 비슷·통화는 삼성</td>\n",
       "      <td>아시아경제</td>\n",
       "      <td>2021.02.14 13:18</td>\n",
       "      <td>/item/news_read.nhn?article_id=0004847040&amp;offi...</td>\n",
       "    </tr>\n",
       "    <tr>\n",
       "      <th>20</th>\n",
       "      <td>214만 동학개미들 다음달 삼성전자 주주총회 온라인 참여…주요 안건은 ...</td>\n",
       "      <td>헤럴드경제</td>\n",
       "      <td>2021.02.14 12:38</td>\n",
       "      <td>/item/news_read.nhn?article_id=0001793315&amp;offi...</td>\n",
       "    </tr>\n",
       "  </tbody>\n",
       "</table>\n",
       "</div>"
      ],
      "text/plain": [
       "                                            제목    정보제공                날짜  \\\n",
       "0                     반도체 '슈퍼 호황'… 삼성전자 역대급 채용  파이낸셜뉴스  2021.02.14 18:33   \n",
       "2    [단독]인력 태부족 \"삼성반도체 경력채용 세자릿수\"..기존 직원도 전...  파이낸셜뉴스  2021.02.14 13:16   \n",
       "3         \"넷플릭스 돈주고 왜 봐\"… 삼성-LG, TV 무료 K콘텐츠 대결  파이낸셜뉴스  2021.02.14 18:04   \n",
       "5             \"넷플릭스 왜 봐\"...삼성 vs LG 무료 K콘텐츠 전쟁  파이낸셜뉴스  2021.02.14 15:28   \n",
       "6               삼성 QLED TV 전 제품에 ‘AMD 프리싱크’ 탑재  파이낸셜뉴스  2021.02.14 18:03   \n",
       "8                       삼성전자, 네오 QLED 게임 기능 강화    서울경제  2021.02.14 13:30   \n",
       "9                    삼성TV, 게이머 위한 기능 강화했다는데...    매일경제  2021.02.14 11:31   \n",
       "10       삼성 QLED TV 신제품 '게임' 기능 강화…AMD 기술 첫 적용   아시아경제  2021.02.14 11:00   \n",
       "11             삼성전자 '후광' 광교테크노밸리에 '광교 Q캠퍼스' 분양    매일경제  2021.02.14 17:47   \n",
       "12             美·EU 반도체 공장 '러브콜'에도…웃지 못하는 삼성전자    한국경제  2021.02.14 17:35   \n",
       "13               삼성폰, ‘험지’ 日서 7년만에 두자릿수 점유율 회복    이데일리  2021.02.14 16:47   \n",
       "14                \"삼성전자 매출 늘겠네\"…퀄컴 5G모뎀칩 수주할 듯    매일경제  2021.02.14 16:25   \n",
       "15  경총 “삼성전자 개인정보 보호 위반 시 과징금 6,000억원···비합리...    서울경제  2021.02.14 15:52   \n",
       "17       \"삼성전자, 경미하게 개인정보보호 위반해도 과징금 2.4조원 내야\"    이데일리  2021.02.14 12:01   \n",
       "18       \"삼성전자, 벌금만 5조원 낼수도\"…경총, 개인정보보호법 개정 비판   머니투데이  2021.02.14 12:00   \n",
       "19      [IT체험기]갤럭시 버즈 프로vs에어팟 프로…노캔은 비슷·통화는 삼성   아시아경제  2021.02.14 13:18   \n",
       "20  214만 동학개미들 다음달 삼성전자 주주총회 온라인 참여…주요 안건은 ...   헤럴드경제  2021.02.14 12:38   \n",
       "\n",
       "                                                 href  \n",
       "0   /item/news_read.nhn?article_id=0004583903&offi...  \n",
       "2   /item/news_read.nhn?article_id=0004583730&offi...  \n",
       "3   /item/news_read.nhn?article_id=0004583862&offi...  \n",
       "5   /item/news_read.nhn?article_id=0004583777&offi...  \n",
       "6   /item/news_read.nhn?article_id=0004583859&offi...  \n",
       "8   /item/news_read.nhn?article_id=0003870709&offi...  \n",
       "9   /item/news_read.nhn?article_id=0004748404&offi...  \n",
       "10  /item/news_read.nhn?article_id=0004846962&offi...  \n",
       "11  /item/news_read.nhn?article_id=0004748575&offi...  \n",
       "12  /item/news_read.nhn?article_id=0004498761&offi...  \n",
       "13  /item/news_read.nhn?article_id=0004852315&offi...  \n",
       "14  /item/news_read.nhn?article_id=0004748478&offi...  \n",
       "15  /item/news_read.nhn?article_id=0003870745&offi...  \n",
       "17  /item/news_read.nhn?article_id=0004852125&offi...  \n",
       "18  /item/news_read.nhn?article_id=0004542895&offi...  \n",
       "19  /item/news_read.nhn?article_id=0004847040&offi...  \n",
       "20  /item/news_read.nhn?article_id=0001793315&offi...  "
      ]
     },
     "execution_count": 55,
     "metadata": {},
     "output_type": "execute_result"
    }
   ],
   "source": [
    "df = get_one_page_news(table)\n",
    "df[\"href\"] = get_href_list(url)\n",
    "df"
   ]
  },
  {
   "cell_type": "code",
   "execution_count": null,
   "metadata": {},
   "outputs": [],
   "source": []
  },
  {
   "cell_type": "code",
   "execution_count": null,
   "metadata": {},
   "outputs": [],
   "source": []
  },
  {
   "cell_type": "code",
   "execution_count": null,
   "metadata": {},
   "outputs": [],
   "source": []
  }
 ],
 "metadata": {
  "colab": {
   "collapsed_sections": [],
   "name": "9. naver_finance_news_one_page.ipynb",
   "provenance": []
  },
  "kernelspec": {
   "display_name": "Python 3",
   "language": "python",
   "name": "python3"
  },
  "language_info": {
   "codemirror_mode": {
    "name": "ipython",
    "version": 3
   },
   "file_extension": ".py",
   "mimetype": "text/x-python",
   "name": "python",
   "nbconvert_exporter": "python",
   "pygments_lexer": "ipython3",
   "version": "3.7.6"
  },
  "toc": {
   "base_numbering": 1,
   "nav_menu": {},
   "number_sections": true,
   "sideBar": true,
   "skip_h1_title": false,
   "title_cell": "Table of Contents",
   "title_sidebar": "Contents",
   "toc_cell": false,
   "toc_position": {},
   "toc_section_display": true,
   "toc_window_display": false
  },
  "varInspector": {
   "cols": {
    "lenName": 16,
    "lenType": 16,
    "lenVar": 40
   },
   "kernels_config": {
    "python": {
     "delete_cmd_postfix": "",
     "delete_cmd_prefix": "del ",
     "library": "var_list.py",
     "varRefreshCmd": "print(var_dic_list())"
    },
    "r": {
     "delete_cmd_postfix": ") ",
     "delete_cmd_prefix": "rm(",
     "library": "var_list.r",
     "varRefreshCmd": "cat(var_dic_list()) "
    }
   },
   "types_to_exclude": [
    "module",
    "function",
    "builtin_function_or_method",
    "instance",
    "_Feature"
   ],
   "window_display": false
  }
 },
 "nbformat": 4,
 "nbformat_minor": 1
}
